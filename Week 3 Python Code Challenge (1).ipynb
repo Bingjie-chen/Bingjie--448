{
 "cells": [
  {
   "cell_type": "code",
   "execution_count": 7,
   "id": "86eec577-e6b0-4447-ba1e-97724ef33afa",
   "metadata": {},
   "outputs": [
    {
     "name": "stdout",
     "output_type": "stream",
     "text": [
      "[1, 2, 3, 4, 5, 6, 7, 8, 9, 10, 11, 12, 13, 14, 15, 16, 17, 18, 19, 20, 21, 22, 23, 24, 25, 26, 27, 28, 29, 30, 31, 32, 33, 34, 35, 36, 37, 38, 39, 40, 41, 42, 43, 44, 45, 46, 47, 48, 49, 50, 51, 52, 53, 54, 55, 56, 57, 58, 59, 60, 61, 62, 63, 64, 65, 66, 67, 68, 69, 70, 71, 72, 73, 74, 75, 76, 77, 78, 79, 80, 81, 82, 83, 84, 85, 86, 87, 88, 89, 90, 91, 92, 93, 94, 95, 96, 97, 98, 99, 100]\n",
      "The sum of all even numbers between 1 and 100 is: 2550\n",
      "The average of all even numbers between 1 and 100 is: 51.0\n"
     ]
    }
   ],
   "source": [
    "# Purpose: Calculate the sum of all even numbers between 1 and 100 and find their average\n",
    "\n",
    "# Step 1: Create a sequence of numbers from 1 to 100\n",
    "numbers = list(range(1, 101))\n",
    "print(numbers)\n",
    "\n",
    "# Step 2: Filter out even numbers\n",
    "even_numbers = [num for num in numbers if num % 2 == 0] #it should equal 0\n",
    "\n",
    "# Step 3: Calculate the sum of even numbers\n",
    "sum_even = sum(even_numbers)\n",
    "\n",
    "# Step 4: Calculate the average of the even numbers\n",
    "average_even =  sum_even / len(even_numbers) #these should be switched \n",
    "\n",
    "# Step 5: Print the result\n",
    "print(f\"The sum of all even numbers between 1 and 100 is: {sum_even}\") \n",
    "print(f\"The average of all even numbers between 1 and 100 is: {average_even}\")"
   ]
  },
  {
   "cell_type": "code",
   "execution_count": null,
   "id": "9b7dedc5-ea9a-4d30-a1b9-cb71375cf795",
   "metadata": {},
   "outputs": [],
   "source": []
  }
 ],
 "metadata": {
  "kernelspec": {
   "display_name": "Python 3 (ipykernel)",
   "language": "python",
   "name": "python3"
  },
  "language_info": {
   "codemirror_mode": {
    "name": "ipython",
    "version": 3
   },
   "file_extension": ".py",
   "mimetype": "text/x-python",
   "name": "python",
   "nbconvert_exporter": "python",
   "pygments_lexer": "ipython3",
   "version": "3.12.4"
  }
 },
 "nbformat": 4,
 "nbformat_minor": 5
}
