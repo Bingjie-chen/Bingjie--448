{
 "cells": [
  {
   "cell_type": "markdown",
   "id": "3ec3b5f1-7023-485d-a622-c672d157902f",
   "metadata": {},
   "source": [
    "# Dirty Data Activity"
   ]
  },
  {
   "cell_type": "markdown",
   "id": "7cb77cd1-ae69-4d87-b6e4-04f0002d7f0c",
   "metadata": {},
   "source": [
    "If you've download the Week 2 penn_health_records.csv in the same directory as this file you can now move forward with the Dirty Data Activity. This activity has three parts.  First, we will assess. You can run the next block of code.  Review all the comments, commands and output.  Second, we will think critically and reflect. You'll find a series of questions posed. Write answers as comments. Third, we will proceed with cleaning. Run the final code block and again, review the comments, commands and output.   "
   ]
  },
  {
   "cell_type": "code",
   "execution_count": 1,
   "id": "2199a416-010f-4b3d-bd2b-d3dbd2ab44cd",
   "metadata": {},
   "outputs": [
    {
     "name": "stdout",
     "output_type": "stream",
     "text": [
      "Missing Data:\n",
      " PatientID         0\n",
      "Name              2\n",
      "Age               2\n",
      "Gender           64\n",
      "Height            1\n",
      "Weight            2\n",
      "BloodPressure    35\n",
      "Cholesterol      46\n",
      "DateOfVisit       0\n",
      "Notes            56\n",
      "dtype: int64\n",
      "Invalid Dates:\n",
      " 1\n",
      "Duplicate Rows:\n",
      " 5\n",
      "Outliers in Age:\n",
      "     PatientID        Name    Age  Gender      Height     Weight BloodPressure  \\\n",
      "72         73  Patient 73  579.0  Female  144.191541  87.735148        140/90   \n",
      "\n",
      "   Cholesterol DateOfVisit Notes  \n",
      "72         NaN  2021-03-14   NaN  \n",
      "Outliers in Height:\n",
      "     PatientID        Name   Age Gender  Height     Weight BloodPressure  \\\n",
      "80         81  Patient 81  42.0   Male     0.5  96.709939        120/80   \n",
      "\n",
      "   Cholesterol DateOfVisit            Notes  \n",
      "80         Low  2021-03-22  Follow-up visit  \n",
      "Outliers in Weight:\n",
      "     PatientID        Name   Age Gender      Height  Weight BloodPressure  \\\n",
      "44         45  Patient 45  57.0    NaN  172.007941     0.0       160/100   \n",
      "\n",
      "   Cholesterol DateOfVisit        Notes  \n",
      "44      Normal  2021-02-14  Urgent care  \n"
     ]
    }
   ],
   "source": [
    "# Import necessary libraries\n",
    "import pandas as pd\n",
    "import numpy as np\n",
    "\n",
    "# Step 1: Load the dataset\n",
    "# Read the CSV file\n",
    "data = pd.read_csv('Week 2 penn_health_records.csv')\n",
    "\n",
    "# Step 2: Review the Dataset\n",
    "# Display the first few rows of the dataset\n",
    "data.head()\n",
    "\n",
    "# Step 3: Identify Data Issues\n",
    "# 3.1: Check for missing data (NaNs)\n",
    "missing_data = data.isnull().sum()\n",
    "print(\"Missing Data:\\n\", missing_data)\n",
    "\n",
    "# 3.2: Check for inconsistent data formats\n",
    "# Convert 'DateOfVisit' to datetime\n",
    "data['DateOfVisit'] = pd.to_datetime(data['DateOfVisit'], errors='coerce')\n",
    "\n",
    "# Check for invalid dates\n",
    "invalid_dates = data['DateOfVisit'].isnull().sum()\n",
    "print(\"Invalid Dates:\\n\", invalid_dates)\n",
    "\n",
    "# 3.3: Check for duplicate rows\n",
    "duplicates = data.duplicated().sum()\n",
    "print(\"Duplicate Rows:\\n\", duplicates)\n",
    "\n",
    "# 3.4: Check for outliers (e.g., Age, Height, Weight)\n",
    "outliers_age = data[(data['Age'] < 0) | (data['Age'] > 100)]\n",
    "outliers_height = data[(data['Height'] < 140) | (data['Height'] > 200)]\n",
    "outliers_weight = data[(data['Weight'] < 50) | (data['Weight'] > 120)]\n",
    "print(\"Outliers in Age:\\n\", outliers_age)\n",
    "print(\"Outliers in Height:\\n\", outliers_height)\n",
    "print(\"Outliers in Weight:\\n\", outliers_weight)"
   ]
  },
  {
   "cell_type": "markdown",
   "id": "3e93fa19-160b-4f2e-8370-3f2c2e417fb4",
   "metadata": {},
   "source": [
    "Summarize your findings from above. What appears dirty? Be specfic and document the various cases. \n",
    "#First, there are obvious missing values for height, weight, blood pressure, and visit date. Then one of the DateOfVisit entries is not in the correct format. Five rows are duplicated in the data. Finally, there are outliers in age, height, and weight."
   ]
  },
  {
   "cell_type": "markdown",
   "id": "19adb025-6614-434f-aa02-0381f6ff5581",
   "metadata": {},
   "source": [
    "What strategies can be used to handle missing data, and how do these strategies impact the overall analysis of the dataset? \n",
    "Provide examples from the Age, Gender, and Height columns.\n",
    "#Age: Since there are outliers in the age list, I think using regression imputation will help. Gender: Since gender is a categorical variable, mode imputation can be used.\n",
    "Height: The presence of outliers and potential relationship with other variables such as age and weight, regression imputation is also applicable here.\n"
   ]
  },
  {
   "cell_type": "markdown",
   "id": "8fbc87b2-8020-4cfe-bbe5-2794c9ce0cd0",
   "metadata": {},
   "source": [
    "Explain the methods you can use to detect outliers in a dataset, particularly in columns like Age, Height, and Weight. How would you decide whether to retain, modify, or remove these outliers, and what justifications can you provide for your decision?\n",
    "#I think I can find outliers by creating a histogram. The data of outliers will be significantly different from the normal data. For these outliers, I will choose to modify them to ensure accuracy. I will use statistical evidence and the impact on the analysis results as the reason for my decision."
   ]
  },
  {
   "cell_type": "markdown",
   "id": "017f5cad-4cfa-45c6-9f9d-100d8ebd939a",
   "metadata": {},
   "source": [
    "Why is it important to validate and ensure consistency in data formats, such as dates? Demonstrate how you can identify and correct inconsistent date formats in the DateOfVisit column, and discuss the potential consequences of not addressing these issues.\"\n",
    "#Because data validation and consistency are critical for accurate data analysis and decision making. Inconsistent data formats can lead to calculation errors and unreliable results. Identify and correct inconsistent date formats in the DateOfVisit column. You can use pandas to parse the dates and identify the inconsistencies. For example, data['DateOfVisit'] = pd.to_datetime(data['DateOfVisit'], errors='coerce'). The consequences of not resolving inconsistent date formats can lead to calculation errors and inaccurate results, ultimately leading to wrong decisions.\n"
   ]
  },
  {
   "cell_type": "code",
   "execution_count": 2,
   "id": "0ddf3ee5-f8b8-4e30-8268-892a27eb45cd",
   "metadata": {},
   "outputs": [
    {
     "name": "stdout",
     "output_type": "stream",
     "text": [
      "Cleaned Data Summary:\n",
      "        PatientID         Age      Height      Weight  \\\n",
      "count  137.000000  137.000000  137.000000  137.000000   \n",
      "mean    99.291971   48.109489  170.216158   85.298862   \n",
      "min      1.000000    0.000000  140.242886   50.216968   \n",
      "25%     52.000000   25.000000  158.109853   69.444157   \n",
      "50%     97.000000   47.000000  169.492606   85.744023   \n",
      "75%    144.000000   70.000000  184.320960   99.602619   \n",
      "max    200.000000   99.000000  199.059766  119.379916   \n",
      "std     56.760353   27.981790   17.010650   20.692849   \n",
      "\n",
      "                         DateOfVisit  \n",
      "count                            137  \n",
      "mean   2021-04-09 07:00:26.277372160  \n",
      "min              2021-01-01 00:00:00  \n",
      "25%              2021-02-21 00:00:00  \n",
      "50%              2021-04-07 00:00:00  \n",
      "75%              2021-05-24 00:00:00  \n",
      "max              2021-07-19 00:00:00  \n",
      "std                              NaN  \n",
      "<class 'pandas.core.frame.DataFrame'>\n",
      "Index: 137 entries, 0 to 199\n",
      "Data columns (total 10 columns):\n",
      " #   Column         Non-Null Count  Dtype         \n",
      "---  ------         --------------  -----         \n",
      " 0   PatientID      137 non-null    int64         \n",
      " 1   Name           137 non-null    object        \n",
      " 2   Age            137 non-null    float64       \n",
      " 3   Gender         137 non-null    object        \n",
      " 4   Height         137 non-null    float64       \n",
      " 5   Weight         137 non-null    float64       \n",
      " 6   BloodPressure  137 non-null    object        \n",
      " 7   Cholesterol    137 non-null    object        \n",
      " 8   DateOfVisit    137 non-null    datetime64[ns]\n",
      " 9   Notes          97 non-null     object        \n",
      "dtypes: datetime64[ns](1), float64(3), int64(1), object(5)\n",
      "memory usage: 11.8+ KB\n",
      "None\n"
     ]
    }
   ],
   "source": [
    "# Dirty Data Cleaning\n",
    "\n",
    "# Import necessary libraries\n",
    "import pandas as pd\n",
    "import numpy as np\n",
    "\n",
    "# Load the dataset\n",
    "data = pd.read_csv('Week 2 penn_health_records.csv')\n",
    "\n",
    "# 1. Handle Missing Data\n",
    "# Fill missing names with a placeholder\n",
    "data['Name'].fillna('Unknown', inplace=True)\n",
    "\n",
    "# Fill missing ages with the median\n",
    "data['Age'].fillna(data['Age'].median(), inplace=True)\n",
    "\n",
    "# Drop rows where Gender is missing\n",
    "data.dropna(subset=['Gender'], inplace=True)\n",
    "\n",
    "# Fill missing heights with the median\n",
    "data['Height'].fillna(data['Height'].median(), inplace=True)\n",
    "\n",
    "# Fill missing weights with the median\n",
    "data['Weight'].fillna(data['Weight'].median(), inplace=True)\n",
    "\n",
    "# Fill missing blood pressure and cholesterol with the most frequent value (mode)\n",
    "data['BloodPressure'].fillna(data['BloodPressure'].mode()[0], inplace=True)\n",
    "data['Cholesterol'].fillna(data['Cholesterol'].mode()[0], inplace=True)\n",
    "\n",
    "# 2. Correct Invalid Dates\n",
    "# Convert 'DateOfVisit' to datetime and handle errors\n",
    "data['DateOfVisit'] = pd.to_datetime(data['DateOfVisit'], errors='coerce')\n",
    "\n",
    "# Fill invalid dates with the most frequent valid date\n",
    "data['DateOfVisit'].fillna(data['DateOfVisit'].mode()[0], inplace=True)\n",
    "\n",
    "# 3. Remove Duplicate Rows\n",
    "data.drop_duplicates(inplace=True)\n",
    "\n",
    "# 4. Handle Outliers\n",
    "# Replace outliers in Age, Height, and Weight with the median\n",
    "median_age = data['Age'].median()\n",
    "median_height = data['Height'].median()\n",
    "median_weight = data['Weight'].median()\n",
    "\n",
    "data.loc[(data['Age'] < 0) | (data['Age'] > 100), 'Age'] = median_age\n",
    "data.loc[(data['Height'] < 140) | (data['Height'] > 200), 'Height'] = median_height\n",
    "data.loc[(data['Weight'] < 50) | (data['Weight'] > 120), 'Weight'] = median_weight\n",
    "\n",
    "# Save the cleaned dataset\n",
    "data.to_csv('Week 2 penn_health_records_cleaned.csv', index=False)\n",
    "\n",
    "# Verify the cleaning steps\n",
    "print(\"Cleaned Data Summary:\")\n",
    "print(data.describe())\n",
    "print(data.info())\n"
   ]
  },
  {
   "cell_type": "code",
   "execution_count": null,
   "id": "ec8e443e",
   "metadata": {},
   "outputs": [],
   "source": []
  }
 ],
 "metadata": {
  "kernelspec": {
   "display_name": "Python 3 (ipykernel)",
   "language": "python",
   "name": "python3"
  },
  "language_info": {
   "codemirror_mode": {
    "name": "ipython",
    "version": 3
   },
   "file_extension": ".py",
   "mimetype": "text/x-python",
   "name": "python",
   "nbconvert_exporter": "python",
   "pygments_lexer": "ipython3",
   "version": "3.11.5"
  }
 },
 "nbformat": 4,
 "nbformat_minor": 5
}
